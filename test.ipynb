{
 "cells": [
  {
   "cell_type": "code",
   "execution_count": 3,
   "metadata": {},
   "outputs": [],
   "source": [
    "import polars as pl\n",
    "import altair as alt\n",
    "\n",
    "from iup.get_uptake_data import get_uptake_data\n",
    "from iup.get_projections import get_projections\n"
   ]
  },
  {
   "cell_type": "code",
   "execution_count": 5,
   "metadata": {},
   "outputs": [],
   "source": [
    "nis_usa_2022 = get_uptake_data(\n",
    "    file_name=\"https://data.cdc.gov/api/views/akkj-j5ru/rows.csv?accessType=DOWNLOAD\",\n",
    "    state_col=\"Geography\",\n",
    "    date_col=[\"Time Period\", \"Year\"],\n",
    "    cumulative_col=\"Estimate (%)\",\n",
    "    state_key=\"data/USA_Name_Key.csv\",\n",
    "    date_format=\"%m/%d/%Y\",\n",
    "    start_date=\"9/2/2022\",\n",
    "    filters={\n",
    "        \"Indicator Category\": \"Received updated bivalent booster dose (among adults who completed primary series)\"\n",
    "    },\n",
    ")\n",
    "\n",
    "nis_usa_2023 = get_uptake_data(\n",
    "    file_name=\"data/NIS_2023-24.csv\",\n",
    "    state_col=\"geography\",\n",
    "    date_col=\"date\",\n",
    "    cumulative_col=\"estimate\",\n",
    "    state_key=\"data/USA_Name_Key.csv\",\n",
    "    date_format=\"%m/%d/%Y\",\n",
    "    start_date=\"9/12/2023\",\n",
    "    filters={\"time_type\": \"Weekly\", \"group_name\": \"Overall\"},\n",
    ")\n",
    "\n",
    "# 2022 NIS data as training, to sequentially (by 1 day) predict 2023 uptake #\n",
    "rt_pred_2023 = []\n",
    "\n",
    "for i in range(len(nis_usa_2023) - 1):\n",
    "    pred_2023 = get_projections(\n",
    "        train_data=nis_usa_2022,\n",
    "        data_to_initiate=nis_usa_2023[i],\n",
    "        end_date=nis_usa_2023[\"date\"][len(nis_usa_2023) - 1],\n",
    "    )\n",
    "\n",
    "    rt_pred_2023.append(pred_2023)"
   ]
  },
  {
   "cell_type": "code",
   "execution_count": null,
   "metadata": {},
   "outputs": [],
   "source": []
  },
  {
   "cell_type": "code",
   "execution_count": null,
   "metadata": {},
   "outputs": [],
   "source": [
    "      data_eos = data_df.filter(\n",
    "            pl.col('date') == pl.col('date').max()\n",
    "        ).select(var, 'date')\n",
    "\n",
    "        pred_eos = pred_df.filter(\n",
    "            pl.col('date') == pl.col('date').max()\n",
    "        ).select(var,'date')"
   ]
  }
 ],
 "metadata": {
  "kernelspec": {
   "display_name": "Python 3",
   "language": "python",
   "name": "python3"
  },
  "language_info": {
   "codemirror_mode": {
    "name": "ipython",
    "version": 3
   },
   "file_extension": ".py",
   "mimetype": "text/x-python",
   "name": "python",
   "nbconvert_exporter": "python",
   "pygments_lexer": "ipython3",
   "version": "3.10.12"
  }
 },
 "nbformat": 4,
 "nbformat_minor": 2
}
